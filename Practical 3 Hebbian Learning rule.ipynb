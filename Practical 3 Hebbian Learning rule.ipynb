{
 "cells": [
  {
   "cell_type": "code",
   "execution_count": 27,
   "metadata": {},
   "outputs": [],
   "source": [
    "import numpy as np\n",
    "import matplotlib.pyplot as plt\n",
    "import random\n",
    "import os"
   ]
  },
  {
   "cell_type": "code",
   "execution_count": 28,
   "metadata": {},
   "outputs": [
    {
     "name": "stdout",
     "output_type": "stream",
     "text": [
      "initial weights:  [0 0 0 0 0 0 0 0 0]\n",
      "\n",
      "Weights after first learning: \n",
      "[ 1  1  1 -1  1 -1  1  1  1]\n",
      "\n",
      "Weights after second learning: \n",
      "[ 0  0  0 -2  2 -2  0  0  0]\n",
      "\n",
      "Hence the weights at end would be:  [ 0  0  0 -2  2 -2  0  0  0]\n"
     ]
    }
   ],
   "source": [
    "ig = np.array(([[1,1,1],[0,1,0],[1,1,1]]), np.int8)\n",
    "io = np.array(([[1,1,1],[1,0,1],[1,1,1]]),np.int8)\n",
    "y = np.array(([1,-1]), np.int8)\n",
    "wgts = np.zeros(9,np.int8)\n",
    "b=0\n",
    "print(\"initial weights: \", wgts)\n",
    "print(\"\\nWeights after first learning: \")\n",
    "\n",
    "c=0\n",
    "for i in range(3):\n",
    "    for j in range(3):\n",
    "        if ig[i][j]==0:\n",
    "            ig[i][j]=-1;\n",
    "        wgts[c] = wgts[c] + ig[i][j]*y[0]\n",
    "        c+=1\n",
    "print(wgts)\n",
    "\n",
    "print(\"\\nWeights after second learning: \")\n",
    "\n",
    "c=0\n",
    "for i in range(3):\n",
    "    for j in range(3):\n",
    "        if io[i][j]==0:\n",
    "            io[i][j]=-1;\n",
    "        wgts[c] = wgts[c] + io[i][j]*y[1]\n",
    "        c+=1\n",
    "print(wgts)\n",
    "\n",
    "print(\"\\nHence the weights at end would be: \", wgts)"
   ]
  },
  {
   "cell_type": "code",
   "execution_count": null,
   "metadata": {},
   "outputs": [],
   "source": []
  }
 ],
 "metadata": {
  "kernelspec": {
   "display_name": "Python 3",
   "language": "python",
   "name": "python3"
  },
  "language_info": {
   "codemirror_mode": {
    "name": "ipython",
    "version": 3
   },
   "file_extension": ".py",
   "mimetype": "text/x-python",
   "name": "python",
   "nbconvert_exporter": "python",
   "pygments_lexer": "ipython3",
   "version": "3.7.1"
  }
 },
 "nbformat": 4,
 "nbformat_minor": 2
}
