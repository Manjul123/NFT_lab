{
 "cells": [
  {
   "cell_type": "code",
   "execution_count": 1,
   "metadata": {},
   "outputs": [],
   "source": [
    "import numpy as np\n",
    "import matplotlib.pyplot as plt\n",
    "import os\n",
    "import random"
   ]
  },
  {
   "cell_type": "code",
   "execution_count": 7,
   "metadata": {},
   "outputs": [
    {
     "name": "stdout",
     "output_type": "stream",
     "text": [
      ".........McCulloch-Pitts Model.......\n",
      "\n",
      "Enter number of inputs: 2\n",
      "theta 1\n",
      "product  [0 1 0 0]\n",
      "Not same have to compute \n",
      "\n",
      "1\n",
      "[-1  1]\n",
      "product  [0 1 0 0]\n",
      "Not same have to compute \n",
      "\n",
      "4\n",
      "[1 1]\n",
      "product  [0 0 0 0]\n",
      "Not same have to compute \n",
      "\n",
      "-2\n",
      "[-1 -1]\n",
      "product  [1 1 1 1]\n",
      "Not same have to compute \n",
      "\n",
      "1\n",
      "[-1  1]\n",
      "product  [0 1 0 0]\n",
      "Not same have to compute \n",
      "\n",
      "1\n",
      "[ 1 -1]\n",
      "product  [0 0 1 0]\n",
      "Weight are correct\n",
      "\n",
      "\n",
      "Final result: \n",
      "\n",
      "weight matrix is:  [ 1 -1]\n"
     ]
    }
   ],
   "source": [
    "print(\".........McCulloch-Pitts Model.......\\n\")\n",
    "n= input(\"Enter number of inputs: \")\n",
    "\n",
    "inp = np.array(([0,0],[0,1],[1,0],[1,1]))\n",
    "outp = np.array(([0,0,1,0]))\n",
    "\n",
    "f=[-1,1]\n",
    "c1=c2=0\n",
    "\n",
    "w = np.array(([1,1]))\n",
    "\n",
    "for i in range(2):\n",
    "    w[i] = random.choice(f)\n",
    "\n",
    "for i in range(2):\n",
    "    if w[i]>0:\n",
    "        c1=c1+1\n",
    "    elif w[i]<0:\n",
    "        c2=c2+1\n",
    "theta = 2*c1 -c2\n",
    "print(\"theta\",theta)\n",
    "\n",
    "while True:\n",
    "    prodct = np.dot(inp,w)\n",
    "    for i in range(pow(2,2)):\n",
    "        if prodct[i]>=theta:\n",
    "            prodct[i]=1\n",
    "        else:\n",
    "            prodct[i]=0\n",
    "    print(\"product \",prodct)\n",
    "\n",
    "    if np.array_equal(prodct, outp):\n",
    "        print(\"Weight are correct\\n\")\n",
    "        break\n",
    "    else:\n",
    "        print(\"Not same have to compute \\n\")\n",
    "        c1=c2=0\n",
    "        for i in range(2):\n",
    "            w[i] = random.choice(f)\n",
    "        for i in range(2):\n",
    "            if w[i]>0:\n",
    "                c1=c1+1\n",
    "            elif w[i]<0:\n",
    "                c2=c2+1\n",
    "        theta = 2*c1 -c2\n",
    "        print(theta)\n",
    "        print(w)\n",
    "        \n",
    "print(\"\\nFinal result: \\n\\nweight matrix is: \", w)\n",
    "\n"
   ]
  },
  {
   "cell_type": "code",
   "execution_count": null,
   "metadata": {},
   "outputs": [],
   "source": []
  }
 ],
 "metadata": {
  "kernelspec": {
   "display_name": "Python 3",
   "language": "python",
   "name": "python3"
  },
  "language_info": {
   "codemirror_mode": {
    "name": "ipython",
    "version": 3
   },
   "file_extension": ".py",
   "mimetype": "text/x-python",
   "name": "python",
   "nbconvert_exporter": "python",
   "pygments_lexer": "ipython3",
   "version": "3.7.1"
  }
 },
 "nbformat": 4,
 "nbformat_minor": 2
}
