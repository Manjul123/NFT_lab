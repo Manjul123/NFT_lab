{
 "cells": [
  {
   "cell_type": "code",
   "execution_count": 52,
   "metadata": {},
   "outputs": [
    {
     "name": "stderr",
     "output_type": "stream",
     "text": [
      "/home/manjul/anaconda3/lib/python3.7/site-packages/ipykernel_launcher.py:7: FutureWarning: from_csv is deprecated. Please use read_csv(...) instead. Note that some of the default arguments are different, so please refer to the documentation for from_csv when changing your function calls\n",
      "  import sys\n"
     ]
    },
    {
     "data": {
      "text/plain": [
       "'class'"
      ]
     },
     "execution_count": 52,
     "metadata": {},
     "output_type": "execute_result"
    }
   ],
   "source": [
    "import pandas as pd\n",
    "from pandas import DataFrame\n",
    "import math\n",
    "from collections import Counter\n",
    "from pprint import pprint\n",
    "\n",
    "df = DataFrame.from_csv('treedata.csv')\n",
    "df.keys()[0]"
   ]
  },
  {
   "cell_type": "code",
   "execution_count": 62,
   "metadata": {
    "scrolled": true
   },
   "outputs": [
    {
     "name": "stdout",
     "output_type": "stream",
     "text": [
      "Total entropy of class is:  0.9402859586706309\n"
     ]
    }
   ],
   "source": [
    "def entrope(probs):\n",
    "    return sum( [-prob*math.log(prob, 2) for prob in probs] )\n",
    "\n",
    "def entropy_lst(lst):\n",
    "    cnt = Counter(c for c in lst)\n",
    "    num_ins = len(lst)*1.0\n",
    "    #print(\"number of instances are: \",num_ins)\n",
    "    probs = [x/num_ins for x in cnt.values()]\n",
    "    #print(\"classes \", min(cnt), max(cnt))\n",
    "    #print(\"prob of class {0} is {1} \".format(min(cnt),min(probs)))\n",
    "    #print(\" prob of class {0} is {1} \".format(max(cnt),max(probs)))\n",
    "    return entrope(probs)\n",
    "    \n",
    "#print(\"Input data set is: \", df['class'])\n",
    "tot_ent = entropy_lst(df['class'])\n",
    "print('Total entropy of class is: ', tot_ent)"
   ]
  },
  {
   "cell_type": "code",
   "execution_count": 60,
   "metadata": {
    "scrolled": true
   },
   "outputs": [
    {
     "name": "stdout",
     "output_type": "stream",
     "text": [
      "Outlook\n",
      "Info-gain for Outlook is :0.2467498197744391 \n",
      "\n",
      "Humidity\n",
      "\n",
      " Info-gain for Humidity is: 0.15183550136234136 \n",
      "\n",
      "Wind\n",
      "\n",
      " Info-gain for Wind is:0.04812703040826927 \n",
      "\n",
      "Temperature\n",
      "\n",
      " Info-gain for Temperature is:0.029222565658954647 \n",
      "\n",
      "............................................ID3 ALGO..........................\n"
     ]
    }
   ],
   "source": [
    "def info_gain(df, att_nm, tar_atnm, trace=0):\n",
    "    print(att_nm)\n",
    "    dflt = df.groupby(att_nm)\n",
    "    #for name, grp in dflt:\n",
    "    #    print(\"name \", name,\"group \", grp)\n",
    "    obs = len(df.index)*1.0\n",
    "    #print(\"obs \",obs)\n",
    "    dff_ag = dflt.agg({tar_atnm: [entropy_lst, lambda x: len(x)/obs]})[tar_atnm]\n",
    "    #print(\"\\n\\n\\ndff ag; \",dff_ag)\n",
    "    dff_ag.columns = ['Entropy','PropObservations']\n",
    "    new_intr = sum(dff_ag['Entropy']*dff_ag['PropObservations'])\n",
    "    old_intr = entropy_lst(df[tar_atnm])\n",
    "    return old_intr - new_intr\n",
    "  \n",
    "#print(df)\n",
    "print('Info-gain for Outlook is :'+str( info_gain(df, 'Outlook', 'class')),\"\\n\")\n",
    "print('\\n Info-gain for Humidity is: ' + str( info_gain(df, 'Humidity', 'class')),\"\\n\")\n",
    "print('\\n Info-gain for Wind is:' + str( info_gain(df, 'Wind', 'class')),\"\\n\")\n",
    "print('\\n Info-gain for Temperature is:' + str( info_gain(df, 'Temperature','class')),\"\\n\")\n",
    "\n",
    "print(\"............................................ID3 ALGO..........................\")\n",
    "\n",
    "def id3algo(df, tar_atnm, att_nm, default_class = None):\n",
    "    cnt = Counter(x for x in df[tar_atnm])\n",
    "    if len(cnt)==1:\n",
    "        return next(iter(cnt))\n",
    "    elif df.empty or (not att_nm):\n",
    "        return default_class\n",
    "    else:\n",
    "        default_class =max(cnt.keys())\n",
    "        gain = [info_gain(df, attr, tar_atnm) for attr in att_nm]\n",
    "        ind_max = gain.index(max(gain))\n",
    "        best_atr = att_nm[ind_max]\n",
    "        \n",
    "        tree = {best_atr:{}}\n",
    "        remain_attr = [i for i in att_nm if i!=best_atr]\n",
    "        for at_val,dtset in df.groupby(best_atr):\n",
    "            subtree = id3algo(dtset, tar_atnm,remain_attr, default_class)\n",
    "            tree[best_atr][at_val] = subtree\n",
    "        return tree\n"
   ]
  },
  {
   "cell_type": "code",
   "execution_count": 61,
   "metadata": {
    "scrolled": false
   },
   "outputs": [
    {
     "name": "stdout",
     "output_type": "stream",
     "text": [
      "Outlook\n",
      "Temperature\n",
      "Humidity\n",
      "Wind\n",
      "Temperature\n",
      "Humidity\n",
      "Wind\n",
      "Temperature\n",
      "Humidity\n",
      "Wind\n",
      "{'Outlook': {'Overcast': 'Yes',\n",
      "             'Rain': {'Wind': {'Strong': 'No', 'Weak': 'Yes'}},\n",
      "             'Sunny': {'Humidity': {'High': 'No', 'Normal': 'Yes'}}}}\n",
      "best attribute  Outlook\n",
      "Tree keys  dict_keys(['Overcast', 'Rain', 'Sunny'])\n"
     ]
    }
   ],
   "source": [
    "att_nm = list(df.columns)\n",
    "att_nm.remove('class')\n",
    "\n",
    "tree = id3algo(df, 'class', att_nm)\n",
    "pprint(tree)\n",
    "attribute = next(iter(tree))\n",
    "print(\"best attribute \",attribute)\n",
    "print(\"Tree keys \", tree[attribute].keys())"
   ]
  },
  {
   "cell_type": "code",
   "execution_count": null,
   "metadata": {},
   "outputs": [],
   "source": []
  },
  {
   "cell_type": "code",
   "execution_count": null,
   "metadata": {},
   "outputs": [],
   "source": []
  }
 ],
 "metadata": {
  "kernelspec": {
   "display_name": "Python 3",
   "language": "python",
   "name": "python3"
  },
  "language_info": {
   "codemirror_mode": {
    "name": "ipython",
    "version": 3
   },
   "file_extension": ".py",
   "mimetype": "text/x-python",
   "name": "python",
   "nbconvert_exporter": "python",
   "pygments_lexer": "ipython3",
   "version": "3.7.1"
  }
 },
 "nbformat": 4,
 "nbformat_minor": 2
}
