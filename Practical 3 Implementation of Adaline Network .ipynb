{
 "cells": [
  {
   "cell_type": "code",
   "execution_count": 1,
   "metadata": {},
   "outputs": [],
   "source": [
    "import numpy as np\n",
    "import random"
   ]
  },
  {
   "cell_type": "code",
   "execution_count": 6,
   "metadata": {},
   "outputs": [],
   "source": [
    "a=np.array(([[1,1],[1,-1],[-1,1],[-1,-1]]), np.float32)\n",
    "y = np.array(([1,1,1,-1]),np.float32)\n",
    "terr=0.495\n",
    "b=random.uniform(0.0, 1.0)\n",
    "wgts = np.random.rand(2)\n",
    "#wgts = [0.1,0.1]\n",
    "#b = [0.1]"
   ]
  },
  {
   "cell_type": "code",
   "execution_count": 7,
   "metadata": {},
   "outputs": [
    {
     "name": "stdout",
     "output_type": "stream",
     "text": [
      "iteration:  1\n",
      "[0.3]\n",
      "[array([0.17]), array([0.17])]\n",
      "[0.17]\n",
      "[array([0.253]), array([0.087])]\n",
      "[0.087]\n",
      "[array([0.1617]), array([0.1783])]\n",
      "[0.0043]\n",
      "[array([0.26213]), array([0.27873])]\n",
      " expr expected error:  [0.75527187]\n",
      "iteration:  2\n",
      "[0.78473]\n",
      "[array([0.283657]), array([0.300257])]\n",
      "[0.248797]\n",
      "[array([0.3587773]), array([0.2251367])]\n",
      "[0.2068767]\n",
      "[array([0.27946497]), array([0.30444903])]\n",
      "[-0.16408437]\n",
      "[array([0.36305653]), array([0.38804059])]\n",
      " expr expected error:  [0.48461166]\n",
      "final weights:  [array([0.36305653]), array([0.38804059])]\n",
      "final error:  [0.48461166]\n",
      "Number of iterations:  2\n"
     ]
    }
   ],
   "source": [
    "expr = terr+1\n",
    "sum=0\n",
    "t=2\n",
    "eta = 0.1\n",
    "t=0\n",
    "while expr>=terr:\n",
    "    print(\"iteration: \",(t+1))\n",
    "    sum=0\n",
    "    for i in range(4):\n",
    "        yin = np.dot(a[i],wgts)+b\n",
    "        print(yin)\n",
    "        for j in range(2):\n",
    "            wgts[j]=wgts[j]+(eta*(y[i]-yin)*a[i][j])\n",
    "        print(wgts)\n",
    "        b=b+ (eta*(y[i]-yin))\n",
    "        sum=sum+(pow((y[i]-yin),2))\n",
    "    expr=sum/4\n",
    "    t=t+1\n",
    "    print(\" expr expected error: \",expr)\n",
    "print(\"final weights: \",wgts)\n",
    "print(\"final error: \",expr)\n",
    "print(\"Number of iterations: \",t)\n"
   ]
  },
  {
   "cell_type": "code",
   "execution_count": null,
   "metadata": {},
   "outputs": [],
   "source": []
  }
 ],
 "metadata": {
  "kernelspec": {
   "display_name": "Python 3",
   "language": "python",
   "name": "python3"
  },
  "language_info": {
   "codemirror_mode": {
    "name": "ipython",
    "version": 3
   },
   "file_extension": ".py",
   "mimetype": "text/x-python",
   "name": "python",
   "nbconvert_exporter": "python",
   "pygments_lexer": "ipython3",
   "version": "3.7.1"
  }
 },
 "nbformat": 4,
 "nbformat_minor": 2
}
